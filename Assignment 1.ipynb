{
 "cells": [
  {
   "cell_type": "markdown",
   "id": "fb4943db-9623-4a07-b212-9fe3c5307174",
   "metadata": {},
   "source": [
    "Q1. Create one variable containing following type of data: (i) string (ii) list (iii) float (iv) tuple"
   ]
  },
  {
   "cell_type": "code",
   "execution_count": 2,
   "id": "bbc55b7c-ba32-410e-82b7-774d7436d4a5",
   "metadata": {},
   "outputs": [],
   "source": [
    "var = ['saurabh', [1,2,3,4,5], 2.5, (1,2,3,4,5) ]"
   ]
  },
  {
   "cell_type": "markdown",
   "id": "cbab5bc1-7132-4f04-ba33-c5d210f817fa",
   "metadata": {},
   "source": [
    "Q2. Given are some following variables containing data:\n",
    "(i) var1 = ‘ ‘ \n",
    "(ii) var2 = ‘[ DS , ML , Python]’ \n",
    "(iii) var3 = [ ‘DS’ , ’ML’ , ‘Python’ ] \n",
    "(iv) var4 = 1.\n",
    "What will be the data type of the above given variable.\n"
   ]
  },
  {
   "cell_type": "raw",
   "id": "19211feb-ca83-445c-90ad-6adbee669cf7",
   "metadata": {},
   "source": [
    "(i) str\n",
    "(ii) str\n",
    "(iii) list\n",
    "(iv) float"
   ]
  },
  {
   "cell_type": "markdown",
   "id": "bcefa0dd-b617-466a-948b-b00f13a788f3",
   "metadata": {},
   "source": [
    "Q3. Explain the use of the following operators using an example: \n",
    "(i) / \n",
    "(ii) %  \n",
    "(iii) // \n",
    "(iv) **\n"
   ]
  },
  {
   "cell_type": "raw",
   "id": "818ec358-5863-4854-8ea3-fef2885cebf3",
   "metadata": {},
   "source": [
    "\t(i) / - use for divide two value.\n",
    "\t\t10 / 2 = 5.0\n",
    "\t(ii) % - use for find remainder of two value\n",
    "\t\t5 % 2 = 1\n",
    "\t(iii) // - use for floor division\n",
    "\t\t15 // 2 = 7\n",
    "\t(iv) ** - use for find the power of value\n",
    "\t\t2**3 = 8"
   ]
  },
  {
   "cell_type": "markdown",
   "id": "517e8062-a1c8-44db-b319-7b7f1e7d7542",
   "metadata": {},
   "source": [
    "Q4. Create a list of length 10 of your choice containing multiple types of data. Using for loop print the element and its data type."
   ]
  },
  {
   "cell_type": "code",
   "execution_count": 4,
   "id": "64de05dd-ad91-4394-98bc-f2dff0ba3f80",
   "metadata": {},
   "outputs": [
    {
     "name": "stdout",
     "output_type": "stream",
     "text": [
      "1\n",
      "<class 'int'>\n",
      "2.5\n",
      "<class 'float'>\n",
      "3.5\n",
      "<class 'float'>\n",
      " 50\n",
      "<class 'str'>\n",
      "sam\n",
      "<class 'str'>\n",
      "(1, 5, 8, 9)\n",
      "<class 'tuple'>\n",
      "True\n",
      "<class 'bool'>\n",
      "[2, 5, 8, 9]\n",
      "<class 'list'>\n",
      "False\n",
      "<class 'bool'>\n",
      "98\n",
      "<class 'int'>\n"
     ]
    }
   ],
   "source": [
    "var =  [1, 2.5, 3.5,' 50', 'sam', (1,5,8,9), True, [2,5,8,9], False, 98]\n",
    "for i in var:\n",
    "\tprint( i)\n",
    "\tprint(type(i))\n"
   ]
  },
  {
   "cell_type": "markdown",
   "id": "169e386b-e7e5-4c3c-b48f-71e2787a0e36",
   "metadata": {},
   "source": [
    "Q5. Using a while loop, verify if the number A is purely divisible by number B and if so then how many\n",
    "times it can be divisible."
   ]
  },
  {
   "cell_type": "code",
   "execution_count": 5,
   "id": "c88d15f0-f6c8-4867-939d-07ebf8d2c58f",
   "metadata": {},
   "outputs": [
    {
     "name": "stdin",
     "output_type": "stream",
     "text": [
      "Enter the value of A   20\n",
      "Enter the value of B   10\n"
     ]
    },
    {
     "name": "stdout",
     "output_type": "stream",
     "text": [
      "2\n"
     ]
    }
   ],
   "source": [
    "A = int(input('Enter the value of A  '))\n",
    "B = int(input('Enter the value of B  '))\n",
    "count = 0\n",
    "if A % B == 0:\n",
    "    while B <= A:\n",
    "        count +=1\n",
    "        A -= B\n",
    "    print(count)\n",
    "else:\n",
    "    print(\"the number A is not purely divisible by number B\")"
   ]
  },
  {
   "cell_type": "markdown",
   "id": "b577fb41-22ad-4830-af0f-e4a78721a8e9",
   "metadata": {},
   "source": [
    "Q6. Create a list containing 25 int type data. Using for loop and if-else condition print if the element is divisible by 3 or not."
   ]
  },
  {
   "cell_type": "code",
   "execution_count": 7,
   "id": "00ea457a-811e-4a1e-af35-ed94b2de9d0a",
   "metadata": {},
   "outputs": [
    {
     "name": "stdout",
     "output_type": "stream",
     "text": [
      "5 not divisible by 3\n",
      "8 not divisible by 3\n",
      "9 divisible by 3\n",
      "4 not divisible by 3\n",
      "852 divisible by 3\n",
      "9 divisible by 3\n",
      "912 divisible by 3\n",
      "94 not divisible by 3\n",
      "3 divisible by 3\n",
      "15 divisible by 3\n",
      "25 not divisible by 3\n",
      "34 not divisible by 3\n",
      "647 not divisible by 3\n",
      "51 divisible by 3\n",
      "65 not divisible by 3\n",
      "67 not divisible by 3\n",
      "62 not divisible by 3\n",
      "67 not divisible by 3\n",
      "39 divisible by 3\n",
      "20 not divisible by 3\n",
      "578 not divisible by 3\n",
      "22 not divisible by 3\n",
      "23 not divisible by 3\n",
      "24 divisible by 3\n",
      "27 divisible by 3\n"
     ]
    }
   ],
   "source": [
    "var = [5,8,9,4,852,9,912,94,3,15,25,34,647,51,65,67,62,67,39,20,578,22,23,24,27]\n",
    "for i in var:\n",
    "\tif i % 3 == 0:\n",
    "\t\tprint (str(i)+ ' divisible by 3')\n",
    "\telse:\n",
    "\t\tprint (str(i)+ ' not divisible by 3')"
   ]
  },
  {
   "cell_type": "markdown",
   "id": "77d8054f-f615-40f1-b017-0c8d4c9ed84d",
   "metadata": {},
   "source": [
    "Q7. What do you understand about mutable and immutable data types? Give examples for both showing this property."
   ]
  },
  {
   "cell_type": "raw",
   "id": "f304f004-4810-428a-b741-ec55b8f6fa67",
   "metadata": {},
   "source": [
    "mutable data types – Mutable data types are the objects that can be modified and altered means adding new elements , replacing an elements even after creating an object.\n",
    "\tExample:-\n",
    "\t\tList, Dictionary, set, Array\n"
   ]
  },
  {
   "cell_type": "code",
   "execution_count": 8,
   "id": "2a9aa0c0-dbd9-44b5-877b-c95de35091f7",
   "metadata": {},
   "outputs": [
    {
     "name": "stdout",
     "output_type": "stream",
     "text": [
      "[1, 'sam', 'orange', 2.5]\n",
      "[1, 'sam', 'apple', 2.5]\n"
     ]
    }
   ],
   "source": [
    "# Creating variable\n",
    "var = [1,'sam','orange',2.5]\n",
    "print(var)\n",
    "\n",
    "# Update Value\n",
    "var[2] = 'apple'\n",
    "print(var)"
   ]
  },
  {
   "cell_type": "raw",
   "id": "5e67aa96-8a0e-427a-b756-ce5b73475a8f",
   "metadata": {},
   "source": [
    "immutable data types – Immutable data types are the objects that cannot be modified and altered means adding new elements , replacing an elements even after creating an object.\n",
    "\tExample:-\n",
    "\t\tString , Tupple\n"
   ]
  },
  {
   "cell_type": "code",
   "execution_count": null,
   "id": "4e08e532-c928-4c2c-bbce-6e97d25dcbea",
   "metadata": {},
   "outputs": [],
   "source": []
  }
 ],
 "metadata": {
  "kernelspec": {
   "display_name": "Python 3 (ipykernel)",
   "language": "python",
   "name": "python3"
  },
  "language_info": {
   "codemirror_mode": {
    "name": "ipython",
    "version": 3
   },
   "file_extension": ".py",
   "mimetype": "text/x-python",
   "name": "python",
   "nbconvert_exporter": "python",
   "pygments_lexer": "ipython3",
   "version": "3.10.8"
  }
 },
 "nbformat": 4,
 "nbformat_minor": 5
}
